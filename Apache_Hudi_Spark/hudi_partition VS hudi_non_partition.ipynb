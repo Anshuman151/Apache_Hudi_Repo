{
 "cells": [
  {
   "cell_type": "code",
   "execution_count": 1,
   "id": "8ce563ce-0dfb-4270-acb8-33b920d73c21",
   "metadata": {},
   "outputs": [],
   "source": [
    "import findspark\n",
    "findspark.init()\n",
    "import os\n",
    "import pyspark\n",
    "import sys\n",
    "from pyspark.sql import SparkSession"
   ]
  },
  {
   "cell_type": "code",
   "execution_count": 2,
   "id": "edc844d9-f3dd-48bd-bbe5-bbeec7ce5559",
   "metadata": {},
   "outputs": [
    {
     "name": "stdout",
     "output_type": "stream",
     "text": [
      ":: loading settings :: url = jar:file:/opt/anaconda3/envs/spark_hudi/lib/python3.10/site-packages/pyspark/jars/ivy-2.5.0.jar!/org/apache/ivy/core/settings/ivysettings.xml\n"
     ]
    },
    {
     "name": "stderr",
     "output_type": "stream",
     "text": [
      "Ivy Default Cache set to: /Users/anshumanr/.ivy2/cache\n",
      "The jars for the packages stored in: /Users/anshumanr/.ivy2/jars\n",
      "org.apache.hudi#hudi-spark3.3-bundle_2.12 added as a dependency\n",
      ":: resolving dependencies :: org.apache.spark#spark-submit-parent-97e927cc-185a-414e-bc6e-a7e6d1d37e45;1.0\n",
      "\tconfs: [default]\n",
      "\tfound org.apache.hudi#hudi-spark3.3-bundle_2.12;0.13.1 in central\n",
      ":: resolution report :: resolve 85ms :: artifacts dl 1ms\n",
      "\t:: modules in use:\n",
      "\torg.apache.hudi#hudi-spark3.3-bundle_2.12;0.13.1 from central in [default]\n",
      "\t---------------------------------------------------------------------\n",
      "\t|                  |            modules            ||   artifacts   |\n",
      "\t|       conf       | number| search|dwnlded|evicted|| number|dwnlded|\n",
      "\t---------------------------------------------------------------------\n",
      "\t|      default     |   1   |   0   |   0   |   0   ||   1   |   0   |\n",
      "\t---------------------------------------------------------------------\n",
      ":: retrieving :: org.apache.spark#spark-submit-parent-97e927cc-185a-414e-bc6e-a7e6d1d37e45\n",
      "\tconfs: [default]\n",
      "\t0 artifacts copied, 1 already retrieved (0kB/4ms)\n"
     ]
    },
    {
     "name": "stdout",
     "output_type": "stream",
     "text": [
      "23/09/01 13:07:01 WARN NativeCodeLoader: Unable to load native-hadoop library for your platform... using builtin-java classes where applicable\n"
     ]
    },
    {
     "name": "stderr",
     "output_type": "stream",
     "text": [
      "Setting default log level to \"WARN\".\n",
      "To adjust logging level use sc.setLogLevel(newLevel). For SparkR, use setLogLevel(newLevel).\n"
     ]
    },
    {
     "name": "stdout",
     "output_type": "stream",
     "text": [
      "23/09/01 13:07:02 WARN Utils: Service 'SparkUI' could not bind on port 4040. Attempting port 4041.\n",
      "Spark Running\n"
     ]
    }
   ],
   "source": [
    "## Start Spark Session\n",
    "spark = SparkSession.builder.appName('app_name') \\\n",
    "        .config('spark.jars.packages','org.apache.hudi:hudi-spark3.3-bundle_2.12:0.13.1') \\\n",
    "        .config('spark.serializer','org.apache.spark.serializer.KryoSerializer') \\\n",
    "        .config('spark.sql.extensions','org.apache.spark.sql.hudi.HoodieSparkSessionExtension') \\\n",
    "        .config('spark.sql.catalog.spark_catalog','org.apache.spark.sql.hudi.catalog.HoodieCatalog') \\\n",
    "        .getOrCreate()\n",
    "print(\"Spark Running\")"
   ]
  },
  {
   "cell_type": "markdown",
   "id": "c5dd7c07-a9bf-4f7d-91b0-59174ded8506",
   "metadata": {},
   "source": [
    "## Creating Partition Table"
   ]
  },
  {
   "cell_type": "code",
   "execution_count": 3,
   "id": "037b8811-0ee6-4b66-b2d4-0f32db001856",
   "metadata": {},
   "outputs": [],
   "source": [
    "tablename='accounts_partition'\n",
    "basePath = \"/Users/anshumanr/Documents/Hudi/Apache_Hudi_Spark/My_warehouse/accounts_partition\"            "
   ]
  },
  {
   "cell_type": "code",
   "execution_count": 4,
   "id": "bb82d492-ee3e-4ddd-9c43-054e49762cb6",
   "metadata": {},
   "outputs": [],
   "source": [
    "df = spark.read.format('parquet').options(inferSchema = 'True',header='True').load(\"/Users/anshumanr/Downloads/data/accounts.parquet\")"
   ]
  },
  {
   "cell_type": "code",
   "execution_count": 5,
   "id": "43edc2b6-1661-407b-83c1-55a3a6c721da",
   "metadata": {},
   "outputs": [],
   "source": [
    "hudi_options = {\n",
    "    'hoodie.table.name': tablename,\n",
    "    'hoodie.datasource.write.recordkey.field': 'account_id',\n",
    "    'hoodie.datasource.write.partitionpath.field': 'account_type',\n",
    "    'hoodie.datasource.write.table.name': tablename,\n",
    "    'hoodie.datasource.write.operation': 'upsert',\n",
    "    'hoodie.datasource.write.precombine.field':'open_date'\n",
    "}"
   ]
  },
  {
   "cell_type": "code",
   "execution_count": 6,
   "id": "69719b88-4786-42b0-8c53-2c2ee051299a",
   "metadata": {},
   "outputs": [
    {
     "name": "stdout",
     "output_type": "stream",
     "text": [
      "23/09/01 13:07:13 WARN GarbageCollectionMetrics: To enable non-built-in garbage collector(s) List(G1 Concurrent GC), users should configure it(them) to spark.eventLog.gcMetrics.youngGenerationGarbageCollectors or spark.eventLog.gcMetrics.oldGenerationGarbageCollectors\n",
      "23/09/01 13:07:13 WARN DFSPropertiesConfiguration: Cannot find HUDI_CONF_DIR, please set it as the dir of hudi-defaults.conf\n",
      "23/09/01 13:07:13 WARN DFSPropertiesConfiguration: Properties file file:/etc/hudi/conf/hudi-defaults.conf not found. Ignoring to load props file\n",
      "23/09/01 13:07:13 WARN HoodieSparkSqlWriter$: hoodie table at /Users/anshumanr/Documents/Hudi/Apache_Hudi_Spark/My_warehouse/accounts_partition already exists. Deleting existing data & overwriting with new data.\n",
      "23/09/01 13:07:14 WARN HoodieBackedTableMetadata: Metadata table was not found at path /Users/anshumanr/Documents/Hudi/Apache_Hudi_Spark/My_warehouse/accounts_partition/.hoodie/metadata\n"
     ]
    },
    {
     "name": "stderr",
     "output_type": "stream",
     "text": [
      "[Stage 2:>                                                          (0 + 8) / 8]\r"
     ]
    },
    {
     "name": "stdout",
     "output_type": "stream",
     "text": [
      "23/09/01 13:07:28 WARN MemoryStore: Not enough space to cache rdd_22_4 in memory! (computed 5.1 MiB so far)\n",
      "23/09/01 13:07:28 WARN BlockManager: Persisting block rdd_22_4 to disk instead.\n"
     ]
    },
    {
     "name": "stderr",
     "output_type": "stream",
     "text": [
      "[Stage 8:>                                                          (0 + 8) / 8]\r"
     ]
    },
    {
     "name": "stdout",
     "output_type": "stream",
     "text": [
      "23/09/01 13:07:41 WARN MemoryStore: Failed to reserve initial memory threshold of 1024.0 KiB for computing block rdd_39_4 in memory.\n",
      "23/09/01 13:07:41 WARN MemoryStore: Not enough space to cache rdd_39_4 in memory! (computed 0.0 B so far)\n",
      "23/09/01 13:07:41 WARN BlockManager: Persisting block rdd_39_4 to disk instead.\n",
      "23/09/01 13:07:41 WARN MemoryStore: Failed to reserve initial memory threshold of 1024.0 KiB for computing block rdd_39_3 in memory.\n",
      "23/09/01 13:07:41 WARN MemoryStore: Not enough space to cache rdd_39_3 in memory! (computed 0.0 B so far)\n",
      "23/09/01 13:07:41 WARN BlockManager: Persisting block rdd_39_3 to disk instead.\n",
      "23/09/01 13:07:41 WARN MemoryStore: Failed to reserve initial memory threshold of 1024.0 KiB for computing block rdd_39_2 in memory.\n",
      "23/09/01 13:07:41 WARN MemoryStore: Not enough space to cache rdd_39_2 in memory! (computed 0.0 B so far)\n",
      "23/09/01 13:07:41 WARN BlockManager: Persisting block rdd_39_2 to disk instead.\n",
      "23/09/01 13:07:42 WARN MemoryStore: Not enough space to cache rdd_39_6 in memory! (computed 1025.0 KiB so far)\n",
      "23/09/01 13:07:42 WARN BlockManager: Persisting block rdd_39_6 to disk instead.\n",
      "23/09/01 13:07:42 WARN MemoryStore: Failed to reserve initial memory threshold of 1024.0 KiB for computing block rdd_39_0 in memory.\n",
      "23/09/01 13:07:42 WARN MemoryStore: Not enough space to cache rdd_39_0 in memory! (computed 0.0 B so far)\n",
      "23/09/01 13:07:42 WARN BlockManager: Persisting block rdd_39_0 to disk instead.\n",
      "23/09/01 13:07:42 WARN MemoryStore: Failed to reserve initial memory threshold of 1024.0 KiB for computing block rdd_39_1 in memory.\n",
      "23/09/01 13:07:42 WARN MemoryStore: Not enough space to cache rdd_39_1 in memory! (computed 0.0 B so far)\n",
      "23/09/01 13:07:42 WARN BlockManager: Persisting block rdd_39_1 to disk instead.\n",
      "23/09/01 13:07:42 WARN MemoryStore: Failed to reserve initial memory threshold of 1024.0 KiB for computing block rdd_39_5 in memory.\n",
      "23/09/01 13:07:42 WARN MemoryStore: Not enough space to cache rdd_39_5 in memory! (computed 0.0 B so far)\n",
      "23/09/01 13:07:42 WARN BlockManager: Persisting block rdd_39_5 to disk instead.\n",
      "23/09/01 13:07:42 WARN MemoryStore: Not enough space to cache rdd_39_7 in memory! (computed 1025.2 KiB so far)\n",
      "23/09/01 13:07:42 WARN BlockManager: Persisting block rdd_39_7 to disk instead.\n"
     ]
    },
    {
     "name": "stderr",
     "output_type": "stream",
     "text": [
      "[Stage 25:>                                                         (0 + 1) / 1]\r"
     ]
    },
    {
     "name": "stdout",
     "output_type": "stream",
     "text": [
      "# WARNING: Unable to get Instrumentation. Dynamic Attach failed. You may add this JAR as -javaagent manually, or supply -Djdk.attach.allowAttachSelf\n",
      "# WARNING: Unable to attach Serviceability Agent. Unable to attach even with module exceptions: [org.apache.hudi.org.openjdk.jol.vm.sa.SASupportException: Sense failed., org.apache.hudi.org.openjdk.jol.vm.sa.SASupportException: Sense failed., org.apache.hudi.org.openjdk.jol.vm.sa.SASupportException: Sense failed.]\n",
      "23/09/01 13:08:19 WARN MetricsConfig: Cannot locate configuration: tried hadoop-metrics2-hbase.properties,hadoop-metrics2.properties\n"
     ]
    },
    {
     "name": "stderr",
     "output_type": "stream",
     "text": [
      "                                                                                \r"
     ]
    }
   ],
   "source": [
    "df.write.format(\"hudi\"). \\\n",
    "    options(**hudi_options). \\\n",
    "    mode(\"overwrite\"). \\\n",
    "    save(basePath)"
   ]
  },
  {
   "cell_type": "markdown",
   "id": "d677d66e-a1a5-4a8f-b809-a00b4a74b549",
   "metadata": {},
   "source": [
    "## Creating Non-Partitioned table from same same file"
   ]
  },
  {
   "cell_type": "code",
   "execution_count": 7,
   "id": "4ffbda37-4103-4a7d-984c-e6e6fd30d110",
   "metadata": {},
   "outputs": [],
   "source": [
    "tablename='accounts_non_partition'\n",
    "basePath = \"/Users/anshumanr/Documents/Hudi/Apache_Hudi_Spark/My_warehouse/accounts_non_partition\" "
   ]
  },
  {
   "cell_type": "code",
   "execution_count": 8,
   "id": "249e71f8-267a-4742-9c80-476eba0824af",
   "metadata": {},
   "outputs": [],
   "source": [
    "df = spark.read.format('parquet').options(inferSchema = 'True',header='True').load(\"/Users/anshumanr/Downloads/data/accounts.parquet\")"
   ]
  },
  {
   "cell_type": "code",
   "execution_count": 9,
   "id": "c82c3b6f-5671-4f6f-8b7c-c3ca3f0cc607",
   "metadata": {},
   "outputs": [],
   "source": [
    "hudi_options = {\n",
    "    'hoodie.table.name': tablename,\n",
    "    'hoodie.datasource.write.recordkey.field': 'account_id',\n",
    "    'hoodie.datasource.write.table.name': tablename,\n",
    "    'hoodie.datasource.write.operation': 'upsert',\n",
    "    'hoodie.datasource.write.precombine.field':'open_date'\n",
    "}"
   ]
  },
  {
   "cell_type": "code",
   "execution_count": 10,
   "id": "3445c51d-c198-4495-9874-58d051b264f5",
   "metadata": {},
   "outputs": [
    {
     "name": "stdout",
     "output_type": "stream",
     "text": [
      "23/09/01 13:08:20 WARN HoodieSparkSqlWriter$: hoodie table at /Users/anshumanr/Documents/Hudi/Apache_Hudi_Spark/My_warehouse/accounts_non_partition already exists. Deleting existing data & overwriting with new data.\n",
      "23/09/01 13:08:20 WARN HoodieBackedTableMetadata: Metadata table was not found at path /Users/anshumanr/Documents/Hudi/Apache_Hudi_Spark/My_warehouse/accounts_non_partition/.hoodie/metadata\n"
     ]
    },
    {
     "name": "stderr",
     "output_type": "stream",
     "text": [
      "[Stage 35:>                                                         (0 + 8) / 8]\r"
     ]
    },
    {
     "name": "stdout",
     "output_type": "stream",
     "text": [
      "23/09/01 13:08:30 WARN MemoryStore: Failed to reserve initial memory threshold of 1024.0 KiB for computing block rdd_96_4 in memory.\n",
      "23/09/01 13:08:30 WARN MemoryStore: Not enough space to cache rdd_96_4 in memory! (computed 0.0 B so far)\n",
      "23/09/01 13:08:30 WARN BlockManager: Persisting block rdd_96_4 to disk instead.\n",
      "23/09/01 13:08:30 WARN MemoryStore: Failed to reserve initial memory threshold of 1024.0 KiB for computing block rdd_96_7 in memory.\n",
      "23/09/01 13:08:30 WARN MemoryStore: Not enough space to cache rdd_96_7 in memory! (computed 0.0 B so far)\n",
      "23/09/01 13:08:30 WARN BlockManager: Persisting block rdd_96_7 to disk instead.\n",
      "23/09/01 13:08:30 WARN MemoryStore: Failed to reserve initial memory threshold of 1024.0 KiB for computing block rdd_96_6 in memory.\n",
      "23/09/01 13:08:30 WARN MemoryStore: Not enough space to cache rdd_96_6 in memory! (computed 0.0 B so far)\n",
      "23/09/01 13:08:30 WARN BlockManager: Persisting block rdd_96_6 to disk instead.\n",
      "23/09/01 13:08:30 WARN MemoryStore: Failed to reserve initial memory threshold of 1024.0 KiB for computing block rdd_96_5 in memory.\n",
      "23/09/01 13:08:30 WARN MemoryStore: Not enough space to cache rdd_96_5 in memory! (computed 0.0 B so far)\n",
      "23/09/01 13:08:30 WARN BlockManager: Persisting block rdd_96_5 to disk instead.\n"
     ]
    },
    {
     "name": "stderr",
     "output_type": "stream",
     "text": [
      "                                                                                \r"
     ]
    }
   ],
   "source": [
    "df.write.format(\"hudi\").options(**hudi_options).mode(\"overwrite\").save(basePath)"
   ]
  },
  {
   "cell_type": "code",
   "execution_count": null,
   "id": "b0d37c93-2192-49ec-9470-112673616907",
   "metadata": {},
   "outputs": [],
   "source": []
  }
 ],
 "metadata": {
  "kernelspec": {
   "display_name": "Python 3 (ipykernel)",
   "language": "python",
   "name": "python3"
  },
  "language_info": {
   "codemirror_mode": {
    "name": "ipython",
    "version": 3
   },
   "file_extension": ".py",
   "mimetype": "text/x-python",
   "name": "python",
   "nbconvert_exporter": "python",
   "pygments_lexer": "ipython3",
   "version": "3.10.12"
  }
 },
 "nbformat": 4,
 "nbformat_minor": 5
}
