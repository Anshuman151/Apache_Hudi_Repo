{
 "cells": [
  {
   "cell_type": "code",
   "execution_count": 1,
   "id": "d4ef1906-67dd-418f-9e79-5f00f60500ca",
   "metadata": {},
   "outputs": [],
   "source": [
    "import findspark\n",
    "findspark.init()\n",
    "import os\n",
    "import pyspark\n",
    "import sys\n",
    "from pyspark.sql import SparkSession"
   ]
  },
  {
   "cell_type": "code",
   "execution_count": 2,
   "id": "fd480f61-fbbf-45b0-a040-b2bb7c1c8ab5",
   "metadata": {},
   "outputs": [
    {
     "name": "stdout",
     "output_type": "stream",
     "text": [
      ":: loading settings :: url = jar:file:/opt/anaconda3/envs/spark_hudi/lib/python3.10/site-packages/pyspark/jars/ivy-2.5.0.jar!/org/apache/ivy/core/settings/ivysettings.xml\n",
      "23/09/01 13:40:31 WARN NativeCodeLoader: Unable to load native-hadoop library for your platform... using builtin-java classes where applicable\n"
     ]
    },
    {
     "name": "stderr",
     "output_type": "stream",
     "text": [
      "Ivy Default Cache set to: /Users/anshumanr/.ivy2/cache\n",
      "The jars for the packages stored in: /Users/anshumanr/.ivy2/jars\n",
      "org.apache.hudi#hudi-spark3.3-bundle_2.12 added as a dependency\n",
      ":: resolving dependencies :: org.apache.spark#spark-submit-parent-73fdafb8-a20e-4445-b198-a5572a3edb9c;1.0\n",
      "\tconfs: [default]\n",
      "\tfound org.apache.hudi#hudi-spark3.3-bundle_2.12;0.13.1 in central\n",
      ":: resolution report :: resolve 66ms :: artifacts dl 1ms\n",
      "\t:: modules in use:\n",
      "\torg.apache.hudi#hudi-spark3.3-bundle_2.12;0.13.1 from central in [default]\n",
      "\t---------------------------------------------------------------------\n",
      "\t|                  |            modules            ||   artifacts   |\n",
      "\t|       conf       | number| search|dwnlded|evicted|| number|dwnlded|\n",
      "\t---------------------------------------------------------------------\n",
      "\t|      default     |   1   |   0   |   0   |   0   ||   1   |   0   |\n",
      "\t---------------------------------------------------------------------\n",
      ":: retrieving :: org.apache.spark#spark-submit-parent-73fdafb8-a20e-4445-b198-a5572a3edb9c\n",
      "\tconfs: [default]\n",
      "\t0 artifacts copied, 1 already retrieved (0kB/2ms)\n",
      "Setting default log level to \"WARN\".\n",
      "To adjust logging level use sc.setLogLevel(newLevel). For SparkR, use setLogLevel(newLevel).\n"
     ]
    },
    {
     "name": "stdout",
     "output_type": "stream",
     "text": [
      "Spark Running\n"
     ]
    }
   ],
   "source": [
    "## Start Spark Session\n",
    "spark = SparkSession.builder.appName('app_name') \\\n",
    "        .config('spark.jars.packages','org.apache.hudi:hudi-spark3.3-bundle_2.12:0.13.1') \\\n",
    "        .config('spark.serializer','org.apache.spark.serializer.KryoSerializer') \\\n",
    "        .config('spark.sql.extensions','org.apache.spark.sql.hudi.HoodieSparkSessionExtension') \\\n",
    "        .config('spark.sql.catalog.spark_catalog','org.apache.spark.sql.hudi.catalog.HoodieCatalog') \\\n",
    "        .getOrCreate()\n",
    "print(\"Spark Running\")"
   ]
  },
  {
   "cell_type": "markdown",
   "id": "9079d25a-f27b-46a3-ba9e-40667c54d05b",
   "metadata": {},
   "source": [
    "## Hudi Upsert"
   ]
  },
  {
   "cell_type": "code",
   "execution_count": 3,
   "id": "6f637234-c17c-4775-8bd6-91616c68ec1f",
   "metadata": {},
   "outputs": [],
   "source": [
    "tablename='customers_upsert'                # 1 Million Records\n",
    "basePath = \"/Users/anshumanr/Documents/Hudi/Apache_Hudi_Spark/My_warehouse/customers_upsert\" "
   ]
  },
  {
   "cell_type": "code",
   "execution_count": 4,
   "id": "2604ce08-e2c1-4e29-92c2-a75d2621a1e4",
   "metadata": {},
   "outputs": [],
   "source": [
    "df = spark.read.format('parquet').options(inferSchema = 'True',header='True').load(\"/Users/anshumanr/Downloads/data/customers.parquet\")"
   ]
  },
  {
   "cell_type": "code",
   "execution_count": 5,
   "id": "26182763-ee35-40c8-8e7c-626c7753c095",
   "metadata": {},
   "outputs": [],
   "source": [
    "hudi_options = {\n",
    "    'hoodie.table.name': tablename,\n",
    "    'hoodie.datasource.write.recordkey.field': 'customer_id',\n",
    "    'hoodie.datasource.write.partitionpath.field': 'gender',\n",
    "    'hoodie.datasource.write.table.name': tablename,\n",
    "    'hoodie.datasource.write.operation': 'upsert',\n",
    "    'hoodie.datasource.write.precombine.field':'age'\n",
    "}"
   ]
  },
  {
   "cell_type": "code",
   "execution_count": 6,
   "id": "19643b8c-aba2-4139-a0ee-8bb0b5f354da",
   "metadata": {},
   "outputs": [
    {
     "name": "stdout",
     "output_type": "stream",
     "text": [
      "23/09/01 13:40:33 WARN DFSPropertiesConfiguration: Cannot find HUDI_CONF_DIR, please set it as the dir of hudi-defaults.conf\n",
      "23/09/01 13:40:33 WARN DFSPropertiesConfiguration: Properties file file:/etc/hudi/conf/hudi-defaults.conf not found. Ignoring to load props file\n",
      "23/09/01 13:40:34 WARN HoodieBackedTableMetadata: Metadata table was not found at path /Users/anshumanr/Documents/Hudi/Apache_Hudi_Spark/My_warehouse/customers_upsert/.hoodie/metadata\n"
     ]
    },
    {
     "name": "stderr",
     "output_type": "stream",
     "text": [
      "[Stage 2:>                                                          (0 + 5) / 5]\r"
     ]
    },
    {
     "name": "stdout",
     "output_type": "stream",
     "text": [
      "23/09/01 13:40:38 WARN MemoryStore: Not enough space to cache rdd_22_0 in memory! (computed 7.7 MiB so far)\n",
      "23/09/01 13:40:38 WARN MemoryStore: Not enough space to cache rdd_22_2 in memory! (computed 7.7 MiB so far)\n",
      "23/09/01 13:40:38 WARN BlockManager: Persisting block rdd_22_0 to disk instead.\n",
      "23/09/01 13:40:38 WARN BlockManager: Persisting block rdd_22_2 to disk instead.\n",
      "23/09/01 13:40:38 WARN MemoryStore: Not enough space to cache rdd_22_1 in memory! (computed 7.7 MiB so far)\n",
      "23/09/01 13:40:38 WARN BlockManager: Persisting block rdd_22_1 to disk instead.\n"
     ]
    },
    {
     "name": "stderr",
     "output_type": "stream",
     "text": [
      "[Stage 8:>                                                          (0 + 5) / 5]\r"
     ]
    },
    {
     "name": "stdout",
     "output_type": "stream",
     "text": [
      "23/09/01 13:40:40 WARN MemoryStore: Not enough space to cache rdd_39_3 in memory! (computed 5.1 MiB so far)\n",
      "23/09/01 13:40:40 WARN BlockManager: Persisting block rdd_39_3 to disk instead.\n"
     ]
    },
    {
     "name": "stderr",
     "output_type": "stream",
     "text": [
      "[Stage 14:>                                                         (0 + 5) / 5]\r"
     ]
    },
    {
     "name": "stdout",
     "output_type": "stream",
     "text": [
      "23/09/01 13:40:43 WARN GarbageCollectionMetrics: To enable non-built-in garbage collector(s) List(G1 Concurrent GC), users should configure it(them) to spark.eventLog.gcMetrics.youngGenerationGarbageCollectors or spark.eventLog.gcMetrics.oldGenerationGarbageCollectors\n"
     ]
    },
    {
     "name": "stderr",
     "output_type": "stream",
     "text": [
      "[Stage 25:>                                                         (0 + 1) / 1]\r"
     ]
    },
    {
     "name": "stdout",
     "output_type": "stream",
     "text": [
      "# WARNING: Unable to get Instrumentation. Dynamic Attach failed. You may add this JAR as -javaagent manually, or supply -Djdk.attach.allowAttachSelf\n",
      "# WARNING: Unable to attach Serviceability Agent. Unable to attach even with module exceptions: [org.apache.hudi.org.openjdk.jol.vm.sa.SASupportException: Sense failed., org.apache.hudi.org.openjdk.jol.vm.sa.SASupportException: Sense failed., org.apache.hudi.org.openjdk.jol.vm.sa.SASupportException: Sense failed.]\n",
      "23/09/01 13:40:56 WARN MetricsConfig: Cannot locate configuration: tried hadoop-metrics2-hbase.properties,hadoop-metrics2.properties\n"
     ]
    },
    {
     "name": "stderr",
     "output_type": "stream",
     "text": [
      "                                                                                \r"
     ]
    },
    {
     "name": "stdout",
     "output_type": "stream",
     "text": [
      "23.3 s ± 0 ns per loop (mean ± std. dev. of 1 run, 1 loop each)\n"
     ]
    }
   ],
   "source": [
    "%%timeit -n 1 -r 1\n",
    "df.write.format(\"hudi\"). \\\n",
    "options(**hudi_options).mode(\"overwrite\").save(basePath)"
   ]
  },
  {
   "cell_type": "markdown",
   "id": "649d1bce-b7a9-4bc2-9070-4608e1bde7ec",
   "metadata": {},
   "source": [
    "## Hudi Insert"
   ]
  },
  {
   "cell_type": "code",
   "execution_count": 7,
   "id": "176933f0-8ef2-4cbe-8ebe-557e80a7a94d",
   "metadata": {},
   "outputs": [],
   "source": [
    "tablename='customers_insert'                # 1 Million Records\n",
    "basePath = \"/Users/anshumanr/Documents/Hudi/Apache_Hudi_Spark/My_warehouse/customers_insert\" "
   ]
  },
  {
   "cell_type": "code",
   "execution_count": 8,
   "id": "d83e8015-278f-4a07-b04e-507d7cda202f",
   "metadata": {},
   "outputs": [],
   "source": [
    "df = spark.read.format('parquet').options(inferSchema = 'True',header='True').load(\"/Users/anshumanr/Downloads/data/customers.parquet\")"
   ]
  },
  {
   "cell_type": "code",
   "execution_count": 9,
   "id": "ec3462c4-197b-41d7-bb78-427809e2809c",
   "metadata": {},
   "outputs": [],
   "source": [
    "hudi_options = {\n",
    "    'hoodie.table.name': tablename,\n",
    "    'hoodie.datasource.write.recordkey.field': 'customer_id',\n",
    "    'hoodie.datasource.write.partitionpath.field': 'gender',\n",
    "    'hoodie.datasource.write.table.name': tablename,\n",
    "    'hoodie.datasource.write.operation': 'insert',\n",
    "    'hoodie.datasource.write.precombine.field':'age'\n",
    "}"
   ]
  },
  {
   "cell_type": "code",
   "execution_count": 10,
   "id": "d0dcad06-d752-4026-ac48-acfbaded54e5",
   "metadata": {},
   "outputs": [
    {
     "name": "stdout",
     "output_type": "stream",
     "text": [
      "23/09/01 13:40:57 WARN HoodieBackedTableMetadata: Metadata table was not found at path /Users/anshumanr/Documents/Hudi/Apache_Hudi_Spark/My_warehouse/customers_insert/.hoodie/metadata\n"
     ]
    },
    {
     "name": "stderr",
     "output_type": "stream",
     "text": [
      "                                                                                \r"
     ]
    },
    {
     "name": "stdout",
     "output_type": "stream",
     "text": [
      "9.56 s ± 0 ns per loop (mean ± std. dev. of 1 run, 1 loop each)\n"
     ]
    }
   ],
   "source": [
    "%%timeit -n 1 -r 1\n",
    "df.write.format(\"hudi\"). \\\n",
    "options(**hudi_options).mode(\"overwrite\").save(basePath)"
   ]
  },
  {
   "cell_type": "markdown",
   "id": "d04ce7b0-a78b-4802-a491-0961fa7162df",
   "metadata": {},
   "source": [
    "## Hudi BulkInsert"
   ]
  },
  {
   "cell_type": "code",
   "execution_count": 11,
   "id": "acd618ca-c4f5-49a0-bc91-a3bf36b36fcc",
   "metadata": {},
   "outputs": [],
   "source": [
    "tablename='customers_bulkinsert'                # 1 Million Records\n",
    "basePath = \"/Users/anshumanr/Documents/Hudi/Apache_Hudi_Spark/My_warehouse/customers_bulkinsert\" "
   ]
  },
  {
   "cell_type": "code",
   "execution_count": 12,
   "id": "b60a3ac0-523d-407a-a20d-4918e8182725",
   "metadata": {},
   "outputs": [],
   "source": [
    "df = spark.read.format('parquet').options(inferSchema = 'True',header='True').load(\"/Users/anshumanr/Downloads/data/customers.parquet\")"
   ]
  },
  {
   "cell_type": "code",
   "execution_count": 13,
   "id": "fc28f38e-5306-4634-92b4-0730b2ce54eb",
   "metadata": {},
   "outputs": [],
   "source": [
    "hudi_options = {\n",
    "    'hoodie.table.name': tablename,\n",
    "    'hoodie.datasource.write.recordkey.field': 'customer_id',\n",
    "    'hoodie.datasource.write.partitionpath.field': 'gender',\n",
    "    'hoodie.datasource.write.table.name': tablename,\n",
    "    'hoodie.datasource.write.operation': 'bulk_insert',\n",
    "    'hoodie.datasource.write.precombine.field':'age'\n",
    "}"
   ]
  },
  {
   "cell_type": "code",
   "execution_count": 14,
   "id": "9a859f1f-3fba-4dba-97f7-3d1aba11da77",
   "metadata": {},
   "outputs": [
    {
     "name": "stdout",
     "output_type": "stream",
     "text": [
      "23/09/01 13:41:06 WARN HoodieBackedTableMetadata: Metadata table was not found at path /Users/anshumanr/Documents/Hudi/Apache_Hudi_Spark/My_warehouse/customers_bulkinsert/.hoodie/metadata\n",
      "23/09/01 13:41:06 WARN HoodieBackedTableMetadata: Metadata table was not found at path /Users/anshumanr/Documents/Hudi/Apache_Hudi_Spark/My_warehouse/customers_bulkinsert/.hoodie/metadata\n"
     ]
    },
    {
     "name": "stderr",
     "output_type": "stream",
     "text": [
      "                                                                                \r"
     ]
    },
    {
     "name": "stdout",
     "output_type": "stream",
     "text": [
      "23/09/01 13:41:09 WARN HoodieBackedTableMetadata: Metadata table was not found at path /Users/anshumanr/Documents/Hudi/Apache_Hudi_Spark/My_warehouse/customers_bulkinsert/.hoodie/metadata\n",
      "23/09/01 13:41:09 WARN HoodieBackedTableMetadata: Metadata table was not found at path /Users/anshumanr/Documents/Hudi/Apache_Hudi_Spark/My_warehouse/customers_bulkinsert/.hoodie/metadata\n",
      "3.96 s ± 0 ns per loop (mean ± std. dev. of 1 run, 1 loop each)\n"
     ]
    }
   ],
   "source": [
    "%%timeit -n 1 -r 1\n",
    "df.write.format(\"hudi\"). \\\n",
    "options(**hudi_options).mode(\"overwrite\").save(basePath)"
   ]
  },
  {
   "cell_type": "code",
   "execution_count": null,
   "id": "bacc7d54-7b48-419d-b667-1848edb9c8b9",
   "metadata": {},
   "outputs": [],
   "source": []
  },
  {
   "cell_type": "code",
   "execution_count": null,
   "id": "11b4bedb-71b1-44cd-9730-51a667455be2",
   "metadata": {},
   "outputs": [],
   "source": []
  }
 ],
 "metadata": {
  "kernelspec": {
   "display_name": "Python 3 (ipykernel)",
   "language": "python",
   "name": "python3"
  },
  "language_info": {
   "codemirror_mode": {
    "name": "ipython",
    "version": 3
   },
   "file_extension": ".py",
   "mimetype": "text/x-python",
   "name": "python",
   "nbconvert_exporter": "python",
   "pygments_lexer": "ipython3",
   "version": "3.10.12"
  }
 },
 "nbformat": 4,
 "nbformat_minor": 5
}
