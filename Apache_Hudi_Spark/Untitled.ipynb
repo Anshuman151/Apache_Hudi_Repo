{
 "cells": [
  {
   "cell_type": "code",
   "execution_count": null,
   "id": "8ce563ce-0dfb-4270-acb8-33b920d73c21",
   "metadata": {},
   "outputs": [],
   "source": [
    "import findspark\n",
    "findspark.init()\n",
    "import os\n",
    "import pyspark\n",
    "import sys\n",
    "from pyspark.sql.session import SparkSession"
   ]
  },
  {
   "cell_type": "code",
   "execution_count": null,
   "id": "edc844d9-f3dd-48bd-bbe5-bbeec7ce5559",
   "metadata": {},
   "outputs": [],
   "source": [
    "## Start Spark Session\n",
    "spark = SparkSession.builder.appName('app_name') \\\n",
    "        .config('spark.jars.packages','org.apache.hudi:hudi-spark3.3-bundle_2.12:0.13.1') \\\n",
    "        .config('spark.serializer','org.apache.spark.serializer.KryoSerializer') \\\n",
    "        .config('spark.sql.extensions','org.apache.spark.sql.hudi.HoodieSparkSessionExtension') \\\n",
    "        .config('spark.sql.catalog.spark_catalog','org.apache.spark.sql.hudi.catalog.HoodieCatalog') \\\n",
    "        .getOrCreate()\n",
    "print(\"Spark Running\")"
   ]
  },
  {
   "cell_type": "code",
   "execution_count": null,
   "id": "037b8811-0ee6-4b66-b2d4-0f32db001856",
   "metadata": {},
   "outputs": [],
   "source": []
  },
  {
   "cell_type": "code",
   "execution_count": null,
   "id": "bb82d492-ee3e-4ddd-9c43-054e49762cb6",
   "metadata": {},
   "outputs": [],
   "source": []
  },
  {
   "cell_type": "code",
   "execution_count": null,
   "id": "43edc2b6-1661-407b-83c1-55a3a6c721da",
   "metadata": {},
   "outputs": [],
   "source": []
  },
  {
   "cell_type": "code",
   "execution_count": null,
   "id": "69719b88-4786-42b0-8c53-2c2ee051299a",
   "metadata": {},
   "outputs": [],
   "source": []
  },
  {
   "cell_type": "code",
   "execution_count": null,
   "id": "6bf7d958-6aae-4936-9d82-dc2dccc3362d",
   "metadata": {},
   "outputs": [],
   "source": []
  },
  {
   "cell_type": "code",
   "execution_count": null,
   "id": "21d971b2-8631-4315-909d-5a8c284f9075",
   "metadata": {},
   "outputs": [],
   "source": []
  },
  {
   "cell_type": "code",
   "execution_count": null,
   "id": "9cbf6274-4a6b-442d-a9c6-3c145e010939",
   "metadata": {},
   "outputs": [],
   "source": []
  }
 ],
 "metadata": {
  "kernelspec": {
   "display_name": "Python 3 (ipykernel)",
   "language": "python",
   "name": "python3"
  },
  "language_info": {
   "codemirror_mode": {
    "name": "ipython",
    "version": 3
   },
   "file_extension": ".py",
   "mimetype": "text/x-python",
   "name": "python",
   "nbconvert_exporter": "python",
   "pygments_lexer": "ipython3",
   "version": "3.9.16"
  }
 },
 "nbformat": 4,
 "nbformat_minor": 5
}
