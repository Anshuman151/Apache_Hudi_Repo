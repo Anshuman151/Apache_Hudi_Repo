{
 "cells": [
  {
   "cell_type": "code",
   "execution_count": 1,
   "id": "f4d3ef0d",
   "metadata": {},
   "outputs": [],
   "source": [
    "import findspark\n",
    "findspark.init()\n",
    "import os\n",
    "import pyspark\n",
    "import sys\n",
    "from pyspark.sql.session import SparkSession"
   ]
  },
  {
   "cell_type": "code",
   "execution_count": 2,
   "id": "a79affc0",
   "metadata": {},
   "outputs": [
    {
     "name": "stdout",
     "output_type": "stream",
     "text": [
      ":: loading settings :: url = jar:file:/opt/anaconda3/envs/spark_hudi/lib/python3.10/site-packages/pyspark/jars/ivy-2.5.0.jar!/org/apache/ivy/core/settings/ivysettings.xml\n"
     ]
    },
    {
     "name": "stderr",
     "output_type": "stream",
     "text": [
      "Ivy Default Cache set to: /Users/anshumanr/.ivy2/cache\n",
      "The jars for the packages stored in: /Users/anshumanr/.ivy2/jars\n",
      "org.apache.hudi#hudi-spark3.3-bundle_2.12 added as a dependency\n",
      ":: resolving dependencies :: org.apache.spark#spark-submit-parent-6f90ba64-f73d-4dca-a404-f8d42afb40a8;1.0\n",
      "\tconfs: [default]\n",
      "\tfound org.apache.hudi#hudi-spark3.3-bundle_2.12;0.13.1 in central\n",
      "downloading https://repo1.maven.org/maven2/org/apache/hudi/hudi-spark3.3-bundle_2.12/0.13.1/hudi-spark3.3-bundle_2.12-0.13.1.jar ...\n",
      "\t[SUCCESSFUL ] org.apache.hudi#hudi-spark3.3-bundle_2.12;0.13.1!hudi-spark3.3-bundle_2.12.jar (11515ms)\n",
      ":: resolution report :: resolve 5163ms :: artifacts dl 11541ms\n",
      "\t:: modules in use:\n",
      "\torg.apache.hudi#hudi-spark3.3-bundle_2.12;0.13.1 from central in [default]\n",
      "\t---------------------------------------------------------------------\n",
      "\t|                  |            modules            ||   artifacts   |\n",
      "\t|       conf       | number| search|dwnlded|evicted|| number|dwnlded|\n",
      "\t---------------------------------------------------------------------\n",
      "\t|      default     |   1   |   1   |   1   |   0   ||   1   |   1   |\n",
      "\t---------------------------------------------------------------------\n",
      ":: retrieving :: org.apache.spark#spark-submit-parent-6f90ba64-f73d-4dca-a404-f8d42afb40a8\n",
      "\tconfs: [default]\n",
      "\t1 artifacts copied, 0 already retrieved (61006kB/43ms)\n"
     ]
    },
    {
     "name": "stdout",
     "output_type": "stream",
     "text": [
      "23/08/30 20:18:41 WARN NativeCodeLoader: Unable to load native-hadoop library for your platform... using builtin-java classes where applicable\n"
     ]
    },
    {
     "name": "stderr",
     "output_type": "stream",
     "text": [
      "Setting default log level to \"WARN\".\n",
      "To adjust logging level use sc.setLogLevel(newLevel). For SparkR, use setLogLevel(newLevel).\n"
     ]
    },
    {
     "name": "stdout",
     "output_type": "stream",
     "text": [
      "Spark Running\n"
     ]
    }
   ],
   "source": [
    "## Start Spark Session\n",
    "spark = SparkSession.builder.appName('app_name') \\\n",
    "        .config('spark.jars.packages','org.apache.hudi:hudi-spark3.3-bundle_2.12:0.13.1') \\\n",
    "        .config('spark.serializer','org.apache.spark.serializer.KryoSerializer') \\\n",
    "        .config('spark.sql.extensions','org.apache.spark.sql.hudi.HoodieSparkSessionExtension') \\\n",
    "        .config('spark.sql.catalog.spark_catalog','org.apache.spark.sql.hudi.catalog.HoodieCatalog') \\\n",
    "        .getOrCreate()\n",
    "print(\"Spark Running\")"
   ]
  },
  {
   "cell_type": "code",
   "execution_count": 3,
   "id": "cca732ae",
   "metadata": {},
   "outputs": [
    {
     "name": "stdout",
     "output_type": "stream",
     "text": [
      "23/08/30 20:20:07 WARN DFSPropertiesConfiguration: Cannot find HUDI_CONF_DIR, please set it as the dir of hudi-defaults.conf\n",
      "23/08/30 20:20:07 WARN DFSPropertiesConfiguration: Properties file file:/etc/hudi/conf/hudi-defaults.conf not found. Ignoring to load props file\n"
     ]
    },
    {
     "data": {
      "text/plain": [
       "DataFrame[]"
      ]
     },
     "execution_count": 3,
     "metadata": {},
     "output_type": "execute_result"
    }
   ],
   "source": [
    "spark.sql('''Create table table1 (id integer,name string) using hudi tblproperties (primaryKey = 'id');''')"
   ]
  },
  {
   "cell_type": "code",
   "execution_count": 4,
   "id": "e613324b",
   "metadata": {},
   "outputs": [
    {
     "name": "stdout",
     "output_type": "stream",
     "text": [
      "23/08/30 20:20:23 WARN HoodieBackedTableMetadata: Metadata table was not found at path file:/Users/anshumanr/Documents/Hudi/Apache_Hudi_SparkSQL/spark-warehouse/table1/.hoodie/metadata\n"
     ]
    },
    {
     "name": "stderr",
     "output_type": "stream",
     "text": [
      "[Stage 11:>                                                         (0 + 1) / 1]\r"
     ]
    },
    {
     "name": "stdout",
     "output_type": "stream",
     "text": [
      "# WARNING: Unable to get Instrumentation. Dynamic Attach failed. You may add this JAR as -javaagent manually, or supply -Djdk.attach.allowAttachSelf\n",
      "# WARNING: Unable to attach Serviceability Agent. Unable to attach even with module exceptions: [org.apache.hudi.org.openjdk.jol.vm.sa.SASupportException: Sense failed., org.apache.hudi.org.openjdk.jol.vm.sa.SASupportException: Sense failed., org.apache.hudi.org.openjdk.jol.vm.sa.SASupportException: Sense failed.]\n",
      "23/08/30 20:20:39 WARN MetricsConfig: Cannot locate configuration: tried hadoop-metrics2-hbase.properties,hadoop-metrics2.properties\n"
     ]
    },
    {
     "name": "stderr",
     "output_type": "stream",
     "text": [
      "                                                                                \r"
     ]
    },
    {
     "data": {
      "text/plain": [
       "DataFrame[]"
      ]
     },
     "execution_count": 4,
     "metadata": {},
     "output_type": "execute_result"
    }
   ],
   "source": [
    "spark.sql(\"INSERT INTO table1 VALUES (1,'Alex'), (2,'Dipankar'), (3,'Jason')\")"
   ]
  },
  {
   "cell_type": "code",
   "execution_count": 5,
   "id": "c299821b",
   "metadata": {},
   "outputs": [
    {
     "name": "stdout",
     "output_type": "stream",
     "text": [
      "+---------+---------+-----------+\n",
      "|namespace|tableName|isTemporary|\n",
      "+---------+---------+-----------+\n",
      "|  default|   table1|      false|\n",
      "+---------+---------+-----------+\n",
      "\n"
     ]
    }
   ],
   "source": [
    "spark.sql(\"show tables\").show()"
   ]
  },
  {
   "cell_type": "code",
   "execution_count": 7,
   "id": "5058be4d-9129-4373-84b0-f01b2e4b19a3",
   "metadata": {},
   "outputs": [
    {
     "name": "stdout",
     "output_type": "stream",
     "text": [
      "+-------------------+--------------------+------------------+----------------------+--------------------+---+--------+\n",
      "|_hoodie_commit_time|_hoodie_commit_seqno|_hoodie_record_key|_hoodie_partition_path|   _hoodie_file_name| id|    name|\n",
      "+-------------------+--------------------+------------------+----------------------+--------------------+---+--------+\n",
      "|  20230830202022841|20230830202022841...|                 1|                      |cf74cc42-c57b-428...|  1|    Alex|\n",
      "|  20230830202022841|20230830202022841...|                 2|                      |cf74cc42-c57b-428...|  2|Dipankar|\n",
      "|  20230830202022841|20230830202022841...|                 3|                      |cf74cc42-c57b-428...|  3|   Jason|\n",
      "+-------------------+--------------------+------------------+----------------------+--------------------+---+--------+\n",
      "\n"
     ]
    }
   ],
   "source": [
    "spark.sql('select * from table1').show()"
   ]
  },
  {
   "cell_type": "code",
   "execution_count": null,
   "id": "3e680ba9-316b-4ece-a003-4f293d0eec78",
   "metadata": {},
   "outputs": [],
   "source": []
  }
 ],
 "metadata": {
  "kernelspec": {
   "display_name": "Python 3 (ipykernel)",
   "language": "python",
   "name": "python3"
  },
  "language_info": {
   "codemirror_mode": {
    "name": "ipython",
    "version": 3
   },
   "file_extension": ".py",
   "mimetype": "text/x-python",
   "name": "python",
   "nbconvert_exporter": "python",
   "pygments_lexer": "ipython3",
   "version": "3.10.12"
  }
 },
 "nbformat": 4,
 "nbformat_minor": 5
}
